{
 "cells": [
  {
   "cell_type": "code",
   "execution_count": 5,
   "metadata": {},
   "outputs": [
    {
     "name": "stderr",
     "output_type": "stream",
     "text": [
      "[nltk_data] Downloading package stopwords to\n",
      "[nltk_data]     /home/gaurav.gupta/nltk_data...\n",
      "[nltk_data]   Package stopwords is already up-to-date!\n"
     ]
    },
    {
     "data": {
      "text/plain": [
       "True"
      ]
     },
     "execution_count": 5,
     "metadata": {},
     "output_type": "execute_result"
    }
   ],
   "source": [
    "import pandas as pd\n",
    "from sklearn.model_selection import train_test_split\n",
    "from sklearn.feature_extraction.text import TfidfVectorizer\n",
    "from sklearn.metrics import confusion_matrix, accuracy_score,f1_score,recall_score,precision_score, fbeta_score\n",
    "import xgboost as xgb\n",
    "import nltk\n",
    "from tabulate import tabulate\n",
    "import os\n",
    "import matplotlib.pyplot as plt\n",
    "\n",
    "nltk.download('stopwords')"
   ]
  },
  {
   "cell_type": "code",
<<<<<<< HEAD
   "execution_count": 6,
=======

   "execution_count": 3,

   "execution_count": 2,

>>>>>>> e77561e5d2973bd8ae1eb0f1593fe7837f15534a
   "metadata": {},
   "outputs": [
    {
     "name": "stderr",
     "output_type": "stream",
     "text": [
      "[nltk_data] Downloading package stopwords to\n",

      "[nltk_data]     /home/simran.tyagi/nltk_data...\n",

      "[nltk_data]     /home/gaurav.gupta/nltk_data...\n",

      "[nltk_data]   Package stopwords is already up-to-date!\n"
     ]
    },
    {
     "name": "stdout",
     "output_type": "stream",
     "text": [
      "------------------  -----------  ------------\n",
      "Step                Total words  Unique words\n",

      "Start               77684        20298\n",
      "Remove Retweet      66365        18469\n",
      "Lower               66365        16577\n",
      "Remove Retweet      66649        16528\n",
      "Lemmatize           66649        15775\n",

      "Start               77684        20305\n",
      "Remove Retweet      66365        18473\n",
      "Lower               66365        16581\n",
      "Remove Retweet      66649        16532\n",
      "Lemmatize           66649        15779\n",

      "Unicode Fix         66656        15752\n",
      "Replace emoji       67043        15848\n",
      "Stop words          50235        15273\n",
      "Email Replace       50235        15266\n",
      "UserName replace    50921        14248\n",
      "HashTags Replace    64615        10461\n",
      "URL Replace         64615        8398\n",
      "MARKUP Replace      64615        8397\n",
      "Remove punctuation  64615        6668\n",
      "------------------  -----------  ------------\n"
     ]
    }
   ],
   "source": [
    "%run ./_preprocess.ipynb\n",
    "\n",

    "#ds_root = '/home/gaurav.gupta/projects/PoCs/brandMention/brand_datasets/'\n",
    "#r_path = os.path.join(ds_root, 'ds_complaints', 'panasonic_random_sample_predicted.csv')\n",
    "#r_df = read_file(r_path)\n",
    "\n",
    "#m_path = os.path.join(ds_root, 'ds_complaints', 'panasonic_v1_g.csv')\n",
    "#m_df = read_file(m_path)\n",
    "\n",
    "#raw_df = pd.concat([r_df, m_df])\n",
    "#raw_df.reset_index(drop=True, inplace=True)\n",
    "raw_df = pd.read_csv('/home/simran.tyagi/Downloads/panasonic_v1_f.csv')\n",
    "\n",

    "ds_root = '/home/gaurav.gupta/projects/PoCs/brandMention/brand_datasets/'\n",
    "r_path = os.path.join(ds_root, 'ds_complaints', 'panasonic_random_sample_predicted.csv')\n",
    "r_df = read_file(r_path)\n",
    "\n",
    "m_path = os.path.join(ds_root, 'ds_complaints', 'panasonic_v1_g.csv')\n",
    "m_df = read_file(m_path)\n",
    "\n",
    "raw_df = pd.concat([r_df, m_df])\n",
    "raw_df.reset_index(drop=True, inplace=True)\n",

    "options = {\n",
    "    'handle_unicode': True,\n",
    "    'handle_emoji': True,\n",
    "    'handle_email': True,\n",
    "    'handle_username': True,\n",
    "    'handle_hashtags': True,\n",
    "    'handle_url': True,\n",
    "    'handle_markup': True,\n",
    "    'handle_retweet': True,\n",
    "    'handle_case': True,\n",
    "    'handle_lemmatization': True,\n",
    "    'handle_stopwords': True,\n",
    "    'handle_punctuation': True,\n",
    "    'handle_contractions': True,\n",
    "    'print_stats': True\n",
    "}\n",
    "df = process_data(raw_df, **options)\n",
    "\n",
    "# replace placeholders.\n",
    "df.text = df.text.str.replace('HASHTAG', '', )\n",
    "df.text = df.text.str.replace('HANDLE', '')\n",
    "df.text = df.text.str.replace('URL', '')\n",
    "df.text = df.text.str.replace('rt', '')\n"
   ]
  },
  {
   "cell_type": "code",
<<<<<<< HEAD
   "execution_count": 7,
=======

   "execution_count": 4,

   "execution_count": 3,

>>>>>>> e77561e5d2973bd8ae1eb0f1593fe7837f15534a
   "metadata": {},
   "outputs": [],
   "source": [
    "from sklearn.metrics import plot_confusion_matrix\n",
    "from collections import OrderedDict\n",
    "\n",
    "\n",
    "def test_model(model):\n",
    "    pred_test = model.predict(x_test)\n",
    "    model_acc_score = accuracy_score(y_test, pred_test)\n",
    "    model_f1_score = f1_score(y_test, pred_test)\n",
    "    model_prec_score = precision_score(y_test, pred_test)\n",
    "    model_recall_score = recall_score(y_test, pred_test)\n",
    "    model_f2_score = fbeta_score(y_test, pred_test, beta=2)\n",
    "    results = []\n",
    "    results.append(('Metric',   'Score'))\n",
    "    results.append(('Accuracy', model_acc_score*100))\n",
    "    results.append(('F1 Score', model_f1_score*100))\n",
    "    results.append(('F-Beta Score', model_f2_score*100))\n",
    "    results.append(('Precision Score', model_prec_score*100))\n",
    "    results.append(('Recall Score', model_recall_score*100))\n",
    "    print(tabulate(results))\n",
    "    return pred_test\n",
    "\n",
    "\n",
    "def plot_important_features(clf, tfidf, axs):\n",
    "    # Display Important feature\n",
    "    n = 20\n",
    "    f_imp = [list(i) for i in list(\n",
    "        zip(clf.feature_importances_, tfidf.get_feature_names()))]\n",
    "    f_imp_df = pd.DataFrame(f_imp, columns=['Importance', 'Feature'])\n",
    "    top_n_features = f_imp_df.sort_values(\n",
    "        by=['Importance'], ascending=False).head(n).sort_values(by=['Importance'])\n",
    "    axs[1].barh(top_n_features['Feature'], top_n_features['Importance'])\n",
    "    axs[1].set_title('MOST Important feature as per RF')\n",
    "    return\n"
   ]
  },
  {
   "cell_type": "code",
<<<<<<< HEAD
   "execution_count": 22,
=======

   "execution_count": 8,

   "execution_count": 44,

>>>>>>> e77561e5d2973bd8ae1eb0f1593fe7837f15534a
   "metadata": {},
   "outputs": [
    {
     "name": "stdout",
     "output_type": "stream",
     "text": [
      "(2421, 233)\n",
<<<<<<< HEAD
      "[17:55:22] WARNING: ../src/learner.cc:1115: Starting in XGBoost 1.3.0, the default evaluation metric used with the objective 'binary:logistic' was changed from 'error' to 'logloss'. Explicitly set eval_metric if you'd like to restore the old behavior.\n",
=======

      "[15:31:21] WARNING: ../src/learner.cc:1115: Starting in XGBoost 1.3.0, the default evaluation metric used with the objective 'binary:logistic' was changed from 'error' to 'logloss'. Explicitly set eval_metric if you'd like to restore the old behavior.\n",
>>>>>>> e77561e5d2973bd8ae1eb0f1593fe7837f15534a
      "---------------  -----------------\n",
      "Metric           Score\n",
      "Accuracy         94.71947194719472\n",
      "F1 Score         82.02247191011236\n",
      "F-Beta Score     84.29561200923787\n",
      "Precision Score  78.49462365591397\n",
      "Recall Score     85.88235294117646\n",
      "---------------  -----------------\n"
     ]
    },
    {
     "data": {
      "image/png": "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",
      "text/plain": [
       "<Figure size 1800x720 with 3 Axes>"
      ]
     },
     "metadata": {
      "needs_background": "light"
     },
     "output_type": "display_data"
    }
   ],
   "source": [
    "\n",
    "labelEncoder = OrderedDict({'Not-A-Complaint': 0, 'Is-A-Complaint': 1, })\n",
    "display_labels = list(labelEncoder.keys())\n",
    "labels = list(labelEncoder.values())\n",
    "\n",
    "\n",
    "tfidf = TfidfVectorizer(lowercase=False, max_df=.8, min_df=0.01, ngram_range=(1,2))\n",
    "vectors = tfidf.fit_transform(df['text']).toarray()\n",
    "print(vectors.shape)\n",
    "x_train, x_test, y_train, y_test = train_test_split(vectors, df['Complaint'], random_state=42)\n",
    "\n",
    "model_x = xgb.XGBClassifier(use_label_encoder=False,\n",
    "                            learning_rate=0.40,\n",
    "                            n_estimators=150, \n",
    "                            max_depth=4,  \n",
    "                            subsample=0.8, \n",
    "                            min_child_weight=.9,  \n",
    "                            reg_alpha=0.6, \n",
    "                            reg_lambda=0.3,\n",
    "                            seed=42).fit(x_train, y_train)\n",
    "\n",
    "pred_test = test_model(model_x)\n",
    "fig, axs = plt.subplots(1, 2, figsize=(25, 10), gridspec_kw={'width_ratios': [1, 4]})\n",
    "plot_confusion_matrix(model_x, x_test, y_test, labels=labels, display_labels=display_labels, ax=axs[0])\n",
    "plot_important_features(model_x, tfidf, axs)\n",
    "plt.show()\n"

      "[14:11:05] WARNING: ../src/learner.cc:1115: Starting in XGBoost 1.3.0, the default evaluation metric used with the objective 'binary:logistic' was changed from 'error' to 'logloss'. Explicitly set eval_metric if you'd like to restore the old behavior.\n",
      "---------------  -----------------\n",
      "Metric           Score\n",
      "Accuracy         94.08528198074278\n",
      "F1 Score         81.05726872246696\n",
      "F-Beta Score     85.34322820037106\n",
      "Precision Score  74.79674796747967\n",
      "Recall Score     88.46153846153845\n",
      "---------------  -----------------\n"
     ]
    },
    {
     "data": {
      "image/png": "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",
      "text/plain": [
       "<Figure size 1800x720 with 3 Axes>"
      ]
     },
     "metadata": {
      "needs_background": "light"
     },
     "output_type": "display_data"
    }
   ],
   "source": [
    "\n",
    "labelEncoder = OrderedDict({'Not-A-Complaint': 0, 'Is-A-Complaint': 1, })\n",
    "display_labels = list(labelEncoder.keys())\n",
    "labels = list(labelEncoder.values())\n",
    "\n",
    "\n",
    "tfidf = TfidfVectorizer(lowercase=False, max_df=.8, min_df=0.01, ngram_range=(1,2))\n",
    "vectors = tfidf.fit_transform(df['text']).toarray()\n",
    "print(vectors.shape)\n",
    "x_train, x_test, y_train, y_test = train_test_split(vectors, df['Complaint'], random_state=42, test_size=0.30)\n",
    "\n",
    "model_x = xgb.XGBClassifier(use_label_encoder=False,\n",
    "                            \n",
    "                            # helps in avoding the overfitting problem and increase in learning rate affects TP and FN\n",
    "                            learning_rate=0.40,\n",
    "                            n_estimators=150,  # number of trees to be built and increase in n_estimators affects TP and FP\n",
    "                            max_depth=4,  # represents the depth of each tree and increase in max_depth affects TN and FN\n",
    "                            subsample=0.8,  # for each tree the % of rows taken to build the tree and increase in subsample affects TN and FN\n",
    "                            min_child_weight=.9,  # Defines the minimum sum of weights of all observations required in a child and increase in min_child_weight affects TN and FN\n",
    "                            reg_alpha=0.6,  # penalizes the features which increase cost function and high value of reg_alpha affects TN and FN rate\n",
    "                            # encourages the weights to be small and increase in reg_lambda affects TN and FN\n",
    "                            reg_lambda=0.3,\n",
    "                            seed=42).fit(x_train, y_train)\n",
    "\n",
    "pred_test = test_model(model_x)\n",
    "fig, axs = plt.subplots(1, 2, figsize=(25, 10), gridspec_kw={'width_ratios': [1, 4]})\n",
    "plot_confusion_matrix(model_x, x_test, y_test, labels=labels, display_labels=display_labels, ax=axs[0])\n",
    "plot_important_features(model_x, tfidf, axs)\n",
    "plt.show()\n"
   ]
  },
  {
   "cell_type": "code",
   "execution_count": 31,
   "metadata": {},
   "outputs": [
    {
     "name": "stderr",
     "output_type": "stream",
     "text": [
      "[nltk_data] Downloading package stopwords to\n",
      "[nltk_data]     /home/gaurav.gupta/nltk_data...\n",
      "[nltk_data]   Package stopwords is already up-to-date!\n"
     ]
    }
   ],
   "source": [
    "import shutil\n",
    "%run ./_preprocess.ipynb\n",
    "\n",
    "root = '/home/gaurav.gupta/projects/PoCs/brandMention/brand_ml'\n",
    "model_dict = OrderedDict({'classifier': model_x, 'vectorizer': tfidf})\n",
    "# experiment_name = \"<Algo_name>_<MetricName>_<NGrams>_<MetricValue>_<date>\"\n",
    "experiment_name = \"Xgb_FBeta_Biigram_8538_Jan04\"\n",
    "tn, fp, fn, tp = confusion_matrix(y_test, pred_test).ravel()\n",
    "experiment_results = {\n",
    "    \"tn\": float(tn), \"fp\": float(fp), \"fn\": float(fn), \"tp\": float(tp),\n",
    "    \"model_acc_score\": float(accuracy_score(y_test, pred_test)),\n",
    "    \"model_f1_score\": float(f1_score(y_test, pred_test)),\n",
    "    \"model_prec_score\": float(precision_score(y_test, pred_test)),\n",
    "    \"model_recall_score\": float(recall_score(y_test, pred_test)),\n",
    "    \"model_f2_score\": float(fbeta_score(y_test, pred_test, beta=2)),\n",
    "}\n",
    "\n",
    "notes = {'details': ['Uni Model', 'XgBoost']}\n",
    "\n",
    "# SAVE THE EXPERIMENT ARTIFACTS\n",
    "shutil.rmtree(os.path.join(root, 'experiments',\n",
    "              experiment_name), ignore_errors=True)\n",
    "save_experiment(experiment_name, model_dict, tags=notes,\n",
    "                results=experiment_results, preprocess_details=options)\n"

   ]
  },
  {
   "cell_type": "code",
   "execution_count": 33,
   "metadata": {},

   "outputs": [
    {
     "name": "stderr",
     "output_type": "stream",
     "text": [
      "[nltk_data] Downloading package stopwords to\n",
      "[nltk_data]     /home/simran.tyagi/nltk_data...\n",
      "[nltk_data]   Package stopwords is already up-to-date!\n"
     ]
    }
   ],
   "source": [
    "import shutil\n",
    "%run ./_preprocess.ipynb\n",
    "\n",
    "root = '/home/simran.tyagi/Desktop/brand_ml'\n",
    "model_dict = OrderedDict({'classifier': model_x, 'vectorizer': tfidf})\n",
    "# experiment_name = \"<Algo_name>_<MetricName>_<NGrams>_<MetricValue>_<date>\"\n",
    "experiment_name = \"Xgb_FBeta_Biigram_8429_Jan05\"\n",
    "tn, fp, fn, tp = confusion_matrix(y_test, pred_test).ravel()\n",
    "experiment_results = {\n",
    "    \"tn\": float(tn), \"fp\": float(fp), \"fn\": float(fn), \"tp\": float(tp),\n",
    "    \"model_acc_score\": float(accuracy_score(y_test, pred_test)),\n",
    "    \"model_f1_score\": float(f1_score(y_test, pred_test)),\n",
    "    \"model_prec_score\": float(precision_score(y_test, pred_test)),\n",
    "    \"model_recall_score\": float(recall_score(y_test, pred_test)),\n",
    "    \"model_f2_score\": float(fbeta_score(y_test, pred_test, beta=2)),\n",
    "}\n",
    "\n",
    "notes = {'details': ['Uni Model', 'XgBoost']}\n",
    "\n",
    "# SAVE THE EXPERIMENT ARTIFACTS\n",
    "shutil.rmtree(os.path.join(root, 'experiments',\n",
    "              experiment_name), ignore_errors=True)\n",
    "save_experiment(experiment_name, model_dict, tags=notes,\n",
    "                results=experiment_results, preprocess_details=options)\n"
   ]
  },
  {
   "cell_type": "code",
   "execution_count": null,
   "metadata": {},
   "outputs": [],
   "source": [
    "# model_dict = load_model(experiment_name)\n",
    "# sample_vector = model_dict['vectorizer'].transform(['This raise complaint'])\n",
    "# sample_predic = model_dict['classifier'].predict(sample_vector)\n",
    "# sample_predic\n"
   ]

   "outputs": [],
   "source": [
    "# model_dict = load_model(experiment_name)\n",
    "# sample_vector = model_dict['vectorizer'].transform(['This raise complaint'])\n",
    "# sample_predic = model_dict['classifier'].predict(sample_vector)\n",
    "# sample_predic\n"
   ]

  }
 ],
 "metadata": {
  "interpreter": {
   "hash": "e490422cd5eb80d883ca3c84d0761f55a6ef3e6322675b57b784cf7be9fc5aec"
  },
  "kernelspec": {
   "display_name": "Python 3",
   "language": "python",
   "name": "python3"
  },
  "language_info": {
   "codemirror_mode": {
    "name": "ipython",
    "version": 3
   },
   "file_extension": ".py",
   "mimetype": "text/x-python",
   "name": "python",
   "nbconvert_exporter": "python",
   "pygments_lexer": "ipython3",

   "version": "3.8.8"

   "version": "3.8.12"

  }
 },
 "nbformat": 4,
 "nbformat_minor": 2
}
