{
 "cells": [
  {
   "cell_type": "code",

   "execution_count": 8,

   "execution_count": 2,
 
   "metadata": {},
   "outputs": [
    {
     "name": "stderr",
     "output_type": "stream",
     "text": [
      "[nltk_data] Downloading package stopwords to\n",
      "[nltk_data]     /home/gaurav.gupta/nltk_data...\n",
      "[nltk_data]   Package stopwords is already up-to-date!\n"
     ]
    },
    {
     "data": {
      "text/plain": [
       "True"
      ]
     },
     "execution_count": 8,

     "execution_count": 2,
     "metadata": {},
     "output_type": "execute_result"
    }
   ],
   "source": [
    "import pandas as pd\n",
    "from sklearn.model_selection import train_test_split, StratifiedKFold, cross_val_score\n",
    "from sklearn.feature_extraction.text import TfidfVectorizer\n",
    "from sklearn.metrics import accuracy_score,f1_score,recall_score,precision_score, fbeta_score\n",
    "from sklearn.metrics import plot_confusion_matrix\n",
    "import nltk\n",
    "nltk.download('stopwords')"
   ]
  },
  {
   "cell_type": "code",
   "execution_count": 9,

   "execution_count": 3,
   "metadata": {},
   "outputs": [
    {
     "name": "stderr",
     "output_type": "stream",
     "text": [
      "[nltk_data] Downloading package stopwords to\n",
      "[nltk_data]     /home/simran.tyagi/nltk_data...\n",

      "[nltk_data]     /home/gaurav.gupta/nltk_data...\n",
      "[nltk_data]   Package stopwords is already up-to-date!\n"
     ]
    },
    {
     "name": "stdout",
     "output_type": "stream",
     "text": [
      "------------------  -----------  ------------\n",
      "Step                Total words  Unique words\n",
      "Start               77684        20298\n",
      "Remove Retweet      66365        18469\n",
      "Lower               66365        16577\n",
      "Remove Retweet      66649        16528\n",
      "Lemmatize           66649        15775\n",
      "Start               77684        20305\n",
      "Remove Retweet      66365        18473\n",
      "Lower               66365        16581\n",
      "Remove Retweet      66649        16532\n",
      "Lemmatize           66649        15779\n",
      "Unicode Fix         66656        15752\n",
      "Replace emoji       67043        15848\n",
      "Stop words          50235        15273\n",
      "Email Replace       50235        15266\n",
      "UserName replace    50921        14248\n",
      "HashTags Replace    64615        10461\n",
      "URL Replace         64615        8398\n",
      "MARKUP Replace      64615        8397\n",
      "Remove punctuation  64615        6668\n",
      "------------------  -----------  ------------\n"
     ]
    }
   ],
   "source": [
    "%run ./_preprocess.ipynb\n",
    "\n",
    "#ds_root = '/home/gaurav.gupta/projects/PoCs/brandMention/brand_datasets/'\n",
    "#r_path = os.path.join(ds_root, 'ds_complaints', 'panasonic_random_sample_predicted.csv')\n",
    "#r_df = read_file(r_path)\n",
    "\n",
    "#m_path = os.path.join(ds_root, 'ds_complaints', 'panasonic_v1_g.csv')\n",
    "#m_df = read_file(m_path)\n",
    "\n",
    "#raw_df = pd.concat([r_df, m_df])\n",
    "#raw_df.reset_index(drop=True, inplace=True)\n",
    "raw_df = pd.read_csv('/home/simran.tyagi/Downloads/panasonic_v1_f.csv')\n",
    "\n",

    "ds_root = '/home/gaurav.gupta/projects/PoCs/brandMention/brand_datasets/'\n",
    "r_path = os.path.join(ds_root, 'ds_complaints', 'panasonic_random_sample_predicted.csv')\n",
    "r_df = read_file(r_path)\n",
    "\n",
    "m_path = os.path.join(ds_root, 'ds_complaints', 'panasonic_v1_g.csv')\n",
    "m_df = read_file(m_path)\n",
    "\n",
    "raw_df = pd.concat([r_df, m_df])\n",
    "raw_df.reset_index(drop=True, inplace=True)\n",
    "options = {\n",
    "    'handle_unicode': True,\n",
    "    'handle_emoji': True,\n",
    "    'handle_email': True,\n",
    "    'handle_username': True,\n",
    "    'handle_hashtags': True,\n",
    "    'handle_url': True,\n",
    "    'handle_markup': True,\n",
    "    'handle_retweet': True,\n",
    "    'handle_case': True,\n",
    "    'handle_lemmatization': True,\n",
    "    'handle_stopwords': True,\n",
    "    'handle_punctuation': True,\n",
    "    'handle_contractions': True,\n",
    "    'print_stats': True\n",
    "}\n",
    "df = process_data(raw_df, **options)\n",
    "\n",
    "# replace placeholders.\n",
    "df.text = df.text.str.replace('HASHTAG', '', )\n",
    "df.text = df.text.str.replace('HANDLE', '')\n",
    "df.text = df.text.str.replace('URL', '')\n",
    "df.text = df.text.str.replace('rt', '')\n"
   ]
  },
  {
   "cell_type": "code",
   "execution_count": 41,
   "execution_count": 10,
   "execution_count": 4,
   "metadata": {},
   "outputs": [],
   "source": [
    "tfidf = TfidfVectorizer(lowercase=False, max_df=.8, min_df=0.01, ngram_range=(1,2))  \n",
    "tfidf_wm = tfidf.fit_transform(df['text']).toarray() \n",
    "x_train, x_test, y_train, y_test = train_test_split(tfidf_wm, df['Complaint'], random_state = 42) \n"
   ]
  },
  {
   "cell_type": "code",
   "execution_count": 50,
   "metadata": {},
   "outputs": [
    {
     "name": "stdout",
     "output_type": "stream",
     "text": [
      "---------------  -----------------\n",
      "Metric           Score\n",
      "Accuracy         91.74917491749174\n",
      "F1 Score         76.1904761904762\n",
      "F-Beta Score     86.02150537634408\n",
      "Precision Score  64.0\n",
      "Recall Score     94.11764705882352\n",
      "---------------  -----------------\n"
     ]
    },
    {
     "data": {
      "text/plain": [
       "<sklearn.metrics._plot.confusion_matrix.ConfusionMatrixDisplay at 0x7f4e468a8eb0>"
      ]
     },
     "execution_count": 50,
     "metadata": {},
     "output_type": "execute_result"
    },
    {
     "data": {
      "image/png": "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",
      "text/plain": [
       "<Figure size 432x288 with 2 Axes>"
      ]
     },
     "metadata": {
      "needs_background": "light"
     },
     "output_type": "display_data"
    }
   ],
   "source": [
    "from sklearn.svm import SVC\n",
    "from tabulate import tabulate\n",
    "\n",
    "\n",
    "def test_model(model):\n",
    "    pred_test = model.predict(x_test)\n",
    "    model_acc_score = accuracy_score(y_test, pred_test)\n",
    "    model_f1_score = f1_score(y_test, pred_test)\n",
    "    model_prec_score = precision_score(y_test, pred_test)\n",
    "    model_recall_score = recall_score(y_test, pred_test)\n",
    "    model_f2_score = fbeta_score(y_test, pred_test, beta=2)\n",
    "    results = []\n",
    "    results.append(('Metric',   'Score'))\n",
    "    results.append(('Accuracy', model_acc_score*100))\n",
    "    results.append(('F1 Score', model_f1_score*100))\n",
    "    results.append(('F-Beta Score', model_f2_score*100))\n",
    "    results.append(('Precision Score', model_prec_score*100))\n",
    "    results.append(('Recall Score', model_recall_score*100))\n",
    "    print(tabulate(results))\n",
    "    return pred_test\n",
    "\n",
    "svc_model = SVC(kernel='linear', random_state=42, class_weight = 'balanced')\n",
    "svc_model.fit(x_train, y_train)\n",
    "pred_test = test_model(svc_model)\n",
    "plot_confusion_matrix(svc_model, x_test, y_test)\n"
   ]
  },
  {
   "cell_type": "code",
   "execution_count": 47,
   "metadata": {},
   "outputs": [
    {
     "data": {
      "text/plain": [
       "{'C': 1.0,\n",
       " 'break_ties': False,\n",
       " 'cache_size': 200,\n",
       " 'class_weight': 'balanced',\n",
       " 'coef0': 0.0,\n",
       " 'decision_function_shape': 'ovr',\n",
       " 'degree': 3,\n",
       " 'gamma': 'scale',\n",
       " 'kernel': 'linear',\n",
       " 'max_iter': -1,\n",
       " 'probability': False,\n",
       " 'random_state': 42,\n",
       " 'shrinking': True,\n",
       " 'tol': 0.001,\n",
       " 'verbose': False}"
      ]
     },
     "execution_count": 47,
     "metadata": {},
     "output_type": "execute_result"
    }
   ],
   "source": [
    "svc_model.get_params()"
   "execution_count": 5,
   "metadata": {},
   "outputs": [
    {
     "name": "stdout",
     "output_type": "stream",
     "text": [
      "---------------  -----------------\n",
      "Metric           Score\n",
      "Accuracy         93.3993399339934\n",
      "F1 Score         77.52808988764045\n",
      "F-Beta Score     81.36792452830188\n",
      "Precision Score  71.875\n",
      "Recall Score     84.14634146341463\n",
      "---------------  -----------------\n"
     ]
    },
    {
     "data": {
      "text/plain": [
       "<sklearn.metrics._plot.confusion_matrix.ConfusionMatrixDisplay at 0x7fc59ddff610>"
      ]
     },
     "execution_count": 5,
     "metadata": {},
     "output_type": "execute_result"
    },
    {
     "data": {
      "image/png": "iVBORw0KGgoAAAANSUhEUgAAATgAAAEGCAYAAADxD4m3AAAAOXRFWHRTb2Z0d2FyZQBNYXRwbG90bGliIHZlcnNpb24zLjQuMywgaHR0cHM6Ly9tYXRwbG90bGliLm9yZy/MnkTPAAAACXBIWXMAAAsTAAALEwEAmpwYAAAYWklEQVR4nO3dfZQV1Znv8e+PBgF5EQjCQkBFRXPR+BZiot44Rp1BE1c0WXoH83KZibmaiUaTTKKYccWZ5LJiMklGM2qMMV6ZyUQHE18wGtHge6IiaDSCQVEUEBQaQQER6O7n/nGq9aDdp6ukT59zdv8+a9XqOvtU7XqaXj7uXbv2LkUEZmYp6lPrAMzMqsUJzsyS5QRnZslygjOzZDnBmVmy+tY6gHIjRzTFnuP71ToMK+DZpwbXOgQrYHPbRrbGm9qROqZ8bFCsfbU117ELntwyJyKO35Hr7Yi6SnB7ju/HvDnjax2GFXDCPkfUOgQr4OHNt+1wHc2vtvLInHG5ju035rmRO3zBHVBXCc7MGkHQGm21DiIXJzgzKySANhpjgoATnJkV1oZbcGaWoCDY5i6qmaUogFZ3Uc0sVb4HZ2ZJCqC1QVYhcoIzs8Ia4w6cE5yZFRSE78GZWZoiYFtj5DcnODMrSrSyQ9NZe4wTnJkVEkCbW3Bmliq34MwsSaUHfZ3gzCxBAWyLxlgr1wnOzAoJRGuDLAbuBGdmhbWFu6hmliDfgzOzhIlW34MzsxSVVvR1gjOzBEWIrdFU6zBycYIzs8LafA/OzFJUGmRwF9XMkuRBBjNLlAcZzCxprX7Q18xSFIht0RipozGiNLO64UEGM0tWIHdRzSxdHmQwsyRF4MdEzCxNpUEGT9Uys0R5kMHMkhTIC16aWbrcgjOzJJXei+oEZ2ZJ8pvtzSxRpdcGehTVzBIUoYbpojZGlGZWV1qjT64tD0lNkh6X9Nvs8whJd0l6Nvs5vOzYCyQtkbRY0pSu6naCM7NCSuvBKdeW07nA02WfpwNzI2IiMDf7jKRJwFRgf+B44ApJFfvKTnBmVpC6rQUnaRzwCeDqsuKTgJnZ/kzg5LLy6yNiS0QsBZYAh1Wq3/fgzKyQ0mMiuVtnIyXNL/t8VURcVfb5EuA8YEhZ2eiIWAUQEaskjcrKxwIPlx23IivrlBOcmRVScC5qc0RM7ugLSScCqyNigaSjc9TVUVaNSic4wZlZYd20XNKRwCclfRwYAAyV9EvgFUljstbbGGB1dvwKYHzZ+eOAlZUu4HtwZlZIabkk5doq1xMXRMS4iNiT0uDB3RHxOWA2MC07bBpwS7Y/G5gqqb+kCcBEYF6la7gFZ2aFVXmy/cXALEmnA8uAUwEiYqGkWcAioAU4KyJaK1XkBGdmhZRWE+nezl9E3Avcm+2vBY7t5LgZwIy89TrBmVkhpalajXF3ywmum7S2wleO35f3jdnGd/9jKc8tHMC/Tx/P5k19GD1uK+df/iKDhrRx943DueGKUW+dt/TpAVw+5xn2PmBzDaPvvUaO2cI3/nUJw0duIwJ+d/1obpk5humXPsO4CaW/yeChrWx8vYmzP3lQjaOtF40zVauqCU7S8cClQBNwdURcXM3r1dLNV+/K+IlbeGNj6Q9/yTd25/98+yUOPHwTc64bwa9/Oopp573MMZ9exzGfXgeUkts///0EJ7caam0RP//eHjy3cDADB7Xyk5uf5PE/7MLF5+771jFfvOAF3tjQGJPLe0qBWQo1VbU0nE2huBw4AZgEnJZNtUjOmpX9mDd3KCd8Zu1bZSue688HPrIJgEOO2sCDtw1713n33Dyco09e11NhWgfWrdmJ5xYOBmDzpiaWPzeQ943eWnZEcNTH13LvrSNrE2Ad6q5R1J5QzXbmYcCSiHg+IrYC11OaapGcKy8ayxcvXInK/jX32O9NHpozFIAHfjuMNSv7veu8+2cP42Mnr++hKK0ro8a+yd6TNrH4icFvlR3woQ2sa+7HyhcH1jCy+tMWfXJttVbNCMYCy8s+dzitQtIZkuZLmr9mbcUR37r08F1DGTayhYkHbt/N/PqPl3HrtSM5a8q+bN7Yh747bf/A9V8e25n+A9vY8/1v9mS41okBO7dy4eXP8LP/uydvbHz7zs3RJzZz32/deivX/k6GPFutVfMeXK5pFdm8tKsAJh80oOK0i3q06NFBPHznUB6dO4mtW8QbG5r4/tm7c/5ly/je9c8Dpe7qI3OHbnfevbcMc/e0TjT1bePCyxdzz+yR/PHO971V3qcpOGLKq5xz8gdqGF39CaClDlpneVQzwRWeVtGIvvCtVXzhW6sAeOKPg/n1lbty/mXLWN/cl2EjW2hrg19dOpoTP//2/bm2tlK39Yc3LqlV2PaW4Kvfe47lSwZy0zW7bffNIUeuZ8XzA2h+uX+NYqtf9dD9zKOaCe5RYGI2peIlSlMxPlPF69WVe24exq3Xlro2R57wGn8z9dW3vvvzw4MZOWYbY/bY2tnp1kP2/+AGjvtUM0v/sjOXzX4CgJk/2p1H7xvOX33CgwsdqpPuZx6KqF6vMJtEewmlx0SuyZ5C7tTkgwbEvDnjKx1ideaEfY6odQhWwMObb+O11uYdyk7D3z8qjrnmlFzH3njkTxd0tppIT6jqc3ARcTtwezWvYWY9r1FacJ7JYGaFFFzwsqac4MyskEC0tHmQwcwS1ShTtZzgzKyYcBfVzBLle3BmljQnODNLUiBaPchgZqnyIIOZJSk8yGBmKQsnODNLU+NMtneCM7PC3IIzsyRFQGubE5yZJcqjqGaWpMBdVDNLlgcZzCxhVVwIvFs5wZlZYe6imlmSSqOonotqZolyF9XMkuUuqpklKZATnJmlq0F6qE5wZlZQQHiqlpmlqlG6qI0x1mtmdSUi31aJpAGS5kl6QtJCSf+SlY+QdJekZ7Ofw8vOuUDSEkmLJU3pKs5OW3CS/p0KXe2IOKerys0sPd04F3ULcExEbJTUD3hQ0u+ATwNzI+JiSdOB6cD5kiYBU4H9gd2A30vaNyJaO7tApS7q/O74DcwsMQF0Q4KLiAA2Zh/7ZVsAJwFHZ+UzgXuB87Py6yNiC7BU0hLgMOChzq7RaYKLiJnlnyUNiohN7+UXMbO0FHjQd6Sk8sbSVRFxVfsHSU3AAmAf4PKIeETS6IhYVbpOrJI0Kjt8LPBwWV0rsrJOdTnIIOlw4BfAYGB3SQcBZ0bEl7v+3cwsPSoyitocEZM7+zLrXh4saRhwk6QDKl64gyoqXTzPIMMlwBRgbRbQE8BROc4zs1RFzi1vdRHrKXVFjwdekTQGIPu5OjtsBTC+7LRxwMpK9eYaRY2I5e8o6vSmnpklLkqDDHm2SiTtmrXckDQQOA74CzAbmJYdNg24JdufDUyV1F/SBGAiMK/SNfI8B7dc0hFASNoJOAd4Osd5Zpaq7pnKMAaYmd2H6wPMiojfSnoImCXpdGAZcCpARCyUNAtYBLQAZ1UaQYV8Ce5LwKWUbua9BMwBznqPv5CZJaFbRlGfBA7poHwtcGwn58wAZuS9RpcJLiKagc/mrdDMeoG2WgeQT5f34CTtJelWSWskrZZ0i6S9eiI4M6tD7c/B5dlqLM8gw6+AWZT6y7sBNwDXVTMoM6tv3TFVqyfkSXCKiP+MiJZs+yWNs1qKmVVDNz8mUi2V5qKOyHbvyeaDXU8p5L8FbuuB2MysXtVB9zOPSoMMCygltPbf5Myy7wL4brWCMrP6pjponeVRaS7qhJ4MxMwaRAhSWvAymx82CRjQXhYR/1GtoMyszjV6C66dpIsoLV0yCbgdOAF4EHCCM+utGiTB5RlFPYXSU8UvR8TfAwcB/asalZnVt0YfRS2zOSLaJLVIGkppZr8f9DXrrbppwcuekCfBzc9m/P+c0sjqRrqYwW9maWv4UdR2ZQtbXinpDmBoNknWzHqrRk9wkg6t9F1EPFadkMys3qXQgvtRhe8COKabY+GZJ3dmym4Hd3e1VkVN++1W6xCsiBf6dU89jX4PLiI+1pOBmFmDqJMR0jz8ZnszK84JzsxSpQZZ8NIJzsyKa5AWXJ4VfSXpc5K+nX3eXdJh1Q/NzOqRIv9Wa3mmal0BHA6cln3eAFxetYjMrP41yJLlebqoH46IQyU9DhAR67LXB5pZb1UHrbM88iS4bdl7CwNKL2ulYd6pY2bVUA/dzzzyJLifADcBoyTNoLS6yIVVjcrM6lckNIoaEf8laQGlJZMEnBwRfrO9WW+WSgtO0u7AG8Ct5WURsayagZlZHUslwVF6g1b7y2cGABOAxcD+VYzLzOpYMvfgIuID5Z+zVUbO7ORwM7O6UXgmQ0Q8JulD1QjGzBpEKi04SV8v+9gHOBRYU7WIzKy+pTSKCgwp22+hdE/uN9UJx8waQgotuOwB38ER8c0eisfM6pxIYJBBUt+IaKm0dLmZ9VKNnuAovTnrUOBPkmYDNwCb2r+MiBurHJuZ1aM6WSkkjzz34EYAaym9g6H9ebgAnODMeqsEBhlGZSOoT/F2YmvXIPnbzKqhUVpwldaDawIGZ9uQsv32zcx6q8i5VSBpvKR7JD0taaGkc7PyEZLukvRs9nN42TkXSFoiabGkKV2FWakFtyoivtNVBWbWy3TfW7VagH/MJg8MARZIugv4O2BuRFwsaTowHThf0iRgKqVporsBv5e0b0S0dnaBSi242i/HaWZ1qTuWLI+IVe0vkI+IDcDTwFjgJGBmdthM4ORs/yTg+ojYEhFLgSVAxdcnVEpwx1YOz8x6rfxd1JGS5pdtZ3RUnaQ9gUOAR4DREbEKSkkQGJUdNhZYXnbaiqysU5Ve/PxqxV/QzHqtAlO1miNicsW6pMGUZkd9NSJelzrtPHb0RcV2Yp6XzpiZvS1v6y3HfTpJ/Sglt/8qe7b2FUljsu/HAKuz8hXA+LLTxwErK9XvBGdmhajAVrGeUlPtF8DTEfHjsq9mA9Oy/WnALWXlUyX1lzQBmEhpQkKn/OJnMyuue0ZRjwQ+D/xZ0p+ysm8BFwOzJJ0OLANOBYiIhZJmAYsojcCeVWkEFZzgzOw96I4HfSPiQTpv6HU4yBkRM4AZea/hBGdmxTXITAYnODMrJrEFL83MtucWnJmlqlEm2zvBmVlxTnBmliq34MwsTUESC16amb1LEi+dMTPrlBOcmaVK0RgZzgnOzIrpvhV9q84JzswK8z04M0uWp2qZWbrcgjOzJCX2Znszs+05wZlZivygr5klTW2NkeGc4MysGD8H13t9/cfL+PBxG1jf3Jczj9kPgP/9zVUcPuV1ImB9c19++NXdefWVfjWO1NoNGrSVc7/5GHtMeI0IcckPPsiWLU2c/bXHGTiwhVde3pkfzDiMzW/4b9auUR4TqdprAyVdI2m1pKeqdY16dOd/j+CfPjthu7Jf/3QU/3Dcfnz5r/fjkd8P5XNfe6VG0VlHzvzKEyyYN5ozp03h7C8ex/IXh3DuNx7j//38AL58+l/zxwfHcsrfPlPrMOtLN70Xtdqq+V7Ua4Hjq1h/XXrqkcFsWLd9w/iNjU1v7Q8Y2EaDTOPrFQbuvI0DDmxmzu17AtDS0odNm3Zi3PgNPPXESAAenz+KI496qYZR1h9Fvq3WqtZFjYj7Je1Zrfobzd+dv4rjTl3HptebOO+UvWsdjmXGjNnEa+v787XzF7DX3utZ8sxwrrzsIF5YOpSPHLmKh/+wGx89egUjR22udaj1I6BR/i9d8zfbSzpD0nxJ87expdbhVM213x/D5yZP4u4bh/HJLzTXOhzLNDUF++y7nttn78VXzjiON99s4n+dtphLfvBBTjzpOS792VwGDmyhZVvN/1OpK2rLt9Vazf9qEXFVREyOiMn96F/rcKrunpuG8z8//lqtw7BM85qBNK8ZyOKnRwDw4H3j2Hvf9axYPpQLz/so5555LPfdPZ5VKwfVONL60f4cXCN0UWue4HqD3Sa83TL9yJTXWL4k/UTeKNatG8Ca1QMZO34DAAcfupplLwxhl2FvAiAFUz//F26/da9ahllfIvJvNebHRLrZ9Cte5MDDN7LLiBZ+OX8R//mj0Rx2zAbG7b2FtjZY/dJO/OT8cbUO08pc+ZODOe+f5tG3bxsvrxrEv31/MsdOeZETT3oegD88sBt3/W6PGkdZX+qhdZaHokpZVtJ1wNHASOAV4KKI+EWlc4ZqRHxYx1YlHquOpv32qXUIVsBDL1zLa5tXaUfqGDJsXBxy1Lm5jn3g1vMWRMTkHbnejqjmKOpp1arbzGqrUVpw7qKaWTEBtDZGhnOCM7PC3IIzs3TVwQhpHk5wZlaYW3BmlqY6mUifhxOcmRUiQB5kMLNUNcqb7T1Vy8yKybsWXI4c2NG6kZJGSLpL0rPZz+Fl310gaYmkxZKmdFW/E5yZFdStc1Gv5d3rRk4H5kbERGBu9hlJk4CpwP7ZOVdIaqICJzgzK6y7VhOJiPuBV99RfBIwM9ufCZxcVn59RGyJiKXAEuCwSvU7wZlZcflbcCPb13vMtjNy1D46IlaVLhOrgFFZ+VhgedlxK7KyTnmQwcyKiUKjqM3dONm+o0UCKgbiFpyZFVfdl868ImkMQPZzdVa+Ahhfdtw4YGWlipzgzKwwReTa3qPZwLRsfxpwS1n5VEn9JU0AJgLzKlXkLqqZFddNz8GVrxspaQVwEXAxMEvS6cAy4NTSJWOhpFnAIqAFOCsiWivV7wRnZsUE0E0vlKmwbmSHK99GxAxgRt76neDMrBCxQ93PHuUEZ2bFtdXBOwFzcIIzs2K6sYtabU5wZlaYu6hmli4nODNLU3281DkPJzgzK8Zv1TKzlPkenJmlywnOzJIUQJsTnJklyYMMZpYyJzgzS1IArY0xlcEJzswKCggnODNLlbuoZpYkj6KaWdLcgjOzZDnBmVmSIqC14qsQ6oYTnJkV5xacmSXLCc7M0hQeRTWzRAWEH/Q1s2R5qpaZJSnCrw00s4R5kMHMUhVuwZlZmrzgpZmlypPtzSxVAYSnaplZksILXppZwsJdVDNLVoO04BR1NBoiaQ3wYq3jqIKRQHOtg7BCUv2b7RERu+5IBZLuoPTvk0dzRBy/I9fbEXWV4FIlaX5ETK51HJaf/2Zp6FPrAMzMqsUJzsyS5QTXM66qdQBWmP9mCfA9ODNLlltwZpYsJzgzS5YTXBVJOl7SYklLJE2vdTzWNUnXSFot6alax2I7zgmuSiQ1AZcDJwCTgNMkTaptVJbDtUDNHky17uUEVz2HAUsi4vmI2ApcD5xU45isCxFxP/BqreOw7uEEVz1jgeVln1dkZWbWQ5zgqkcdlPmZHLMe5ARXPSuA8WWfxwEraxSLWa/kBFc9jwITJU2QtBMwFZhd45jMehUnuCqJiBbgbGAO8DQwKyIW1jYq64qk64CHgP0krZB0eq1jsvfOU7XMLFluwZlZspzgzCxZTnBmliwnODNLlhOcmSXLCa6BSGqV9CdJT0m6QdLOO1DXtZJOyfavrrQQgKSjJR3xHq7xgqR3vX2ps/J3HLOx4LX+WdI3isZoaXOCayybI+LgiDgA2Ap8qfzLbAWTwiLiixGxqMIhRwOFE5xZrTnBNa4HgH2y1tU9kn4F/FlSk6R/lfSopCclnQmgksskLZJ0GzCqvSJJ90qanO0fL+kxSU9ImitpT0qJ9GtZ6/GjknaV9JvsGo9KOjI7932S7pT0uKSf0fF83O1IulnSAkkLJZ3xju9+lMUyV9KuWdneku7IznlA0vu75V/TkuQ32zcgSX0prTN3R1Z0GHBARCzNksRrEfEhSf2BP0i6EzgE2A/4ADAaWARc8456dwV+DhyV1TUiIl6VdCWwMSJ+mB33K+DfIuJBSbtTmq3xP4CLgAcj4juSPgFsl7A68YXsGgOBRyX9JiLWAoOAxyLiHyV9O6v7bEovg/lSRDwr6cPAFcAx7+Gf0XoBJ7jGMlDSn7L9B4BfUOo6zouIpVn53wAHtt9fA3YBJgJHAddFRCuwUtLdHdT/EeD+9roiorN10Y4DJklvNdCGShqSXePT2bm3SVqX43c6R9Knsv3xWaxrgTbgv7PyXwI3Shqc/b43lF27f45rWC/lBNdYNkfEweUF2X/om8qLgK9ExJx3HPdxul6uSTmOgdKtjcMjYnMHseSe+yfpaErJ8vCIeEPSvcCATg6P7Lrr3/lvYNYZ34NLzxzgHyT1A5C0r6RBwP3A1Owe3RjgYx2c+xDwV5ImZOeOyMo3AEPKjruTUneR7LiDs937gc9mZScAw7uIdRdgXZbc3k+pBdmuD9DeCv0Mpa7v68BSSadm15Ckg7q4hvViTnDpuZrS/bXHshen/IxSS/0m4Fngz8BPgfveeWJErKF03+xGSU/wdhfxVuBT7YMMwDnA5GwQYxFvj+b+C3CUpMcodZWXdRHrHUBfSU8C3wUeLvtuE7C/pAWU7rF9Jyv/LHB6Ft9CvAy8VeDVRMwsWW7BmVmynODMLFlOcGaWLCc4M0uWE5yZJcsJzsyS5QRnZsn6/6GyEkFisYRxAAAAAElFTkSuQmCC",
      "text/plain": [
       "<Figure size 432x288 with 2 Axes>"
      ]
     },
     "metadata": {
      "needs_background": "light"
     },
     "output_type": "display_data"
    }
   ],
   "source": [
    "from sklearn.svm import SVC\n",
    "from tabulate import tabulate\n",
    "\n",
    "\n",
    "def test_model(model):\n",
    "    pred_test = model.predict(x_test)\n",
    "    model_acc_score = accuracy_score(y_test, pred_test)\n",
    "    model_f1_score = f1_score(y_test, pred_test)\n",
    "    model_prec_score = precision_score(y_test, pred_test)\n",
    "    model_recall_score = recall_score(y_test, pred_test)\n",
    "    model_f2_score = fbeta_score(y_test, pred_test, beta=2)\n",
    "    results = []\n",
    "    results.append(('Metric',   'Score'))\n",
    "    results.append(('Accuracy', model_acc_score*100))\n",
    "    results.append(('F1 Score', model_f1_score*100))\n",
    "    results.append(('F-Beta Score', model_f2_score*100))\n",
    "    results.append(('Precision Score', model_prec_score*100))\n",
    "    results.append(('Recall Score', model_recall_score*100))\n",
    "    print(tabulate(results))\n",
    "    return pred_test\n",
    "\n",
    "svc_model = SVC(kernel='linear', C=9, random_state=42)\n",
    "svc_model.fit(x_train, y_train)\n",
    "pred_test = test_model(svc_model)\n",
    "plot_confusion_matrix(svc_model, x_test, y_test)\n"
   ]
  },
  {
   "cell_type": "code",
   "execution_count": 48,
   "metadata": {},
   "outputs": [
    {
     "name": "stderr",
     "output_type": "stream",
     "text": [
      "[nltk_data] Downloading package stopwords to\n",
      "[nltk_data]     /home/simran.tyagi/nltk_data...\n",
      "[nltk_data]   Package stopwords is already up-to-date!\n"
     ]
    }
   ],
   "source": [
    "import shutil\n",
    "%run ./_preprocess.ipynb\n",
    "\n",
    "root = '/home/simran.tyagi/Desktop/brand_ml'\n",
    "model_dict = OrderedDict({'classifier': svc_model, 'vectorizer': tfidf})\n",
    "# experiment_name = \"<Algo_name>_<MetricName>_<NGrams>_<MetricValue>_<date>\"\n",
    "experiment_name = \"SVC_FBeta_Biigram_8602_Jan05\"\n",
    "tn, fp, fn, tp = confusion_matrix(y_test, pred_test).ravel()\n",
    "experiment_results = {\n",
    "    \"tn\": float(tn), \"fp\": float(fp), \"fn\": float(fn), \"tp\": float(tp),\n",
    "    \"model_acc_score\": float(accuracy_score(y_test, pred_test)),\n",
    "    \"model_f1_score\": float(f1_score(y_test, pred_test)),\n",
    "    \"model_prec_score\": float(precision_score(y_test, pred_test)),\n",
    "    \"model_recall_score\": float(recall_score(y_test, pred_test)),\n",
    "    \"model_f2_score\": float(fbeta_score(y_test, pred_test, beta=2)),\n",
    "}\n",
    "\n",
    "notes = {'details': ['Uni Model', 'SVM']}\n",
    "\n",
    "# SAVE THE EXPERIMENT ARTIFACTS\n",
    "shutil.rmtree(os.path.join(root, 'experiments',\n",
    "              experiment_name), ignore_errors=True)\n",
    "save_experiment(experiment_name, model_dict, tags=notes,\n",
    "                results=experiment_results, preprocess_details=options)"
   "execution_count": 6,
   "metadata": {},
   "outputs": [
    {
     "data": {
      "text/plain": [
       "{'C': 9,\n",
       " 'break_ties': False,\n",
       " 'cache_size': 200,\n",
       " 'class_weight': None,\n",
       " 'coef0': 0.0,\n",
       " 'decision_function_shape': 'ovr',\n",
       " 'degree': 3,\n",
       " 'gamma': 'scale',\n",
       " 'kernel': 'linear',\n",
       " 'max_iter': -1,\n",
       " 'probability': False,\n",
       " 'random_state': 42,\n",
       " 'shrinking': True,\n",
       " 'tol': 0.001,\n",
       " 'verbose': False}"
      ]
     },
     "execution_count": 6,
     "metadata": {},
     "output_type": "execute_result"
    }
   ],
   "source": [
    "svc_model.get_params()"
   ]
  },
  {
   "cell_type": "code",
   "execution_count": null,
   "metadata": {},
   "outputs": [],
   "source": []
  }
 ],
 "metadata": {
  "interpreter": {
   "hash": "e490422cd5eb80d883ca3c84d0761f55a6ef3e6322675b57b784cf7be9fc5aec"
  },
  "kernelspec": {
   "display_name": "Python 3",
   "language": "python",
   "name": "python3"
  },
  "language_info": {
   "codemirror_mode": {
    "name": "ipython",
    "version": 3
   },
   "file_extension": ".py",
   "mimetype": "text/x-python",
   "name": "python",
   "nbconvert_exporter": "python",
   "pygments_lexer": "ipython3",
   "version": "3.8.12"
  }
 },
 "nbformat": 4,
 "nbformat_minor": 2
}
