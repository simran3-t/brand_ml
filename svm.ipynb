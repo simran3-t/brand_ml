{
 "cells": [
  {
   "cell_type": "code",
   "execution_count": 1,
   "metadata": {},
   "outputs": [
    {
     "name": "stderr",
     "output_type": "stream",
     "text": [
      "[nltk_data] Downloading package stopwords to\n",
      "[nltk_data]     /home/simran.tyagi/nltk_data...\n",
      "[nltk_data]   Package stopwords is already up-to-date!\n"
     ]
    },
    {
     "data": {
      "text/plain": [
       "True"
      ]
     },
     "execution_count": 1,
     "metadata": {},
     "output_type": "execute_result"
    }
   ],
   "source": [
    "import pandas as pd\n",
    "from sklearn.model_selection import train_test_split, StratifiedKFold, cross_val_score\n",
    "from sklearn.feature_extraction.text import TfidfVectorizer\n",
    "from sklearn.metrics import accuracy_score,f1_score,recall_score,precision_score, fbeta_score\n",
    "from sklearn.metrics import plot_confusion_matrix\n",
    "import nltk\n",
    "nltk.download('stopwords')"
   ]
  },
  {
   "cell_type": "code",
   "execution_count": 2,
   "metadata": {},
   "outputs": [
    {
     "name": "stderr",
     "output_type": "stream",
     "text": [
      "[nltk_data] Downloading package stopwords to\n",
      "[nltk_data]     /home/simran.tyagi/nltk_data...\n",
      "[nltk_data]   Package stopwords is already up-to-date!\n"
     ]
    },
    {
     "name": "stdout",
     "output_type": "stream",
     "text": [
      "------------------  -----------  ------------\n",
      "Step                Total words  Unique words\n",
      "Start               77684        20298\n",
      "Remove Retweet      66365        18469\n",
      "Lower               66365        16577\n",
      "Remove Retweet      66649        16528\n",
      "Lemmatize           66649        15775\n",
      "Unicode Fix         66656        15752\n",
      "Replace emoji       67043        15848\n",
      "Stop words          50235        15273\n",
      "Email Replace       50235        15266\n",
      "UserName replace    50921        14248\n",
      "HashTags Replace    64615        10461\n",
      "URL Replace         64615        8398\n",
      "MARKUP Replace      64615        8397\n",
      "Remove punctuation  64615        6668\n",
      "------------------  -----------  ------------\n"
     ]
    }
   ],
   "source": [
    "%run ./_preprocess.ipynb\n",
    "\n",
    "#ds_root = '/home/gaurav.gupta/projects/PoCs/brandMention/brand_datasets/'\n",
    "#r_path = os.path.join(ds_root, 'ds_complaints', 'panasonic_random_sample_predicted.csv')\n",
    "#r_df = read_file(r_path)\n",
    "\n",
    "#m_path = os.path.join(ds_root, 'ds_complaints', 'panasonic_v1_g.csv')\n",
    "#m_df = read_file(m_path)\n",
    "\n",
    "#raw_df = pd.concat([r_df, m_df])\n",
    "#raw_df.reset_index(drop=True, inplace=True)\n",
    "raw_df = pd.read_csv('/home/simran.tyagi/Downloads/panasonic_v1_f.csv')\n",
    "\n",
    "options = {\n",
    "    'handle_unicode': True,\n",
    "    'handle_emoji': True,\n",
    "    'handle_email': True,\n",
    "    'handle_username': True,\n",
    "    'handle_hashtags': True,\n",
    "    'handle_url': True,\n",
    "    'handle_markup': True,\n",
    "    'handle_retweet': True,\n",
    "    'handle_case': True,\n",
    "    'handle_lemmatization': True,\n",
    "    'handle_stopwords': True,\n",
    "    'handle_punctuation': True,\n",
    "    'handle_contractions': True,\n",
    "    'print_stats': True\n",
    "}\n",
    "df = process_data(raw_df, **options)\n",
    "\n",
    "# replace placeholders.\n",
    "df.text = df.text.str.replace('HASHTAG', '', )\n",
    "df.text = df.text.str.replace('HANDLE', '')\n",
    "df.text = df.text.str.replace('URL', '')\n",
    "df.text = df.text.str.replace('rt', '')\n"
   ]
  },
  {
   "cell_type": "code",
   "execution_count": 11,
   "metadata": {},
   "outputs": [],
   "source": [
    "tfidf = TfidfVectorizer(lowercase=False, max_df=.8, min_df=0.01, ngram_range=(1, 2))  \n",
    "tfidf_wm = tfidf.fit_transform(df['text']).toarray() \n",
    "x_train, x_test, y_train, y_test = train_test_split(tfidf_wm, df['Complaint'], random_state = 42) \n"
   ]
  },
  {
   "cell_type": "code",
   "execution_count": 12,
   "metadata": {
    "scrolled": true
   },
   "outputs": [
    {
     "name": "stdout",
     "output_type": "stream",
     "text": [
      "---------------  -----------------\n",
      "Metric           Score\n",
      "Accuracy         91.74917491749174\n",
      "F1 Score         76.1904761904762\n",
      "F-Beta Score     86.02150537634408\n",
      "Precision Score  64.0\n",
      "Recall Score     94.11764705882352\n",
      "---------------  -----------------\n"
     ]
    },
    {
     "data": {
      "text/plain": [
       "<sklearn.metrics._plot.confusion_matrix.ConfusionMatrixDisplay at 0x7f6079ac4f10>"
      ]
     },
     "execution_count": 12,
     "metadata": {},
     "output_type": "execute_result"
    },
    {
     "data": {
      "image/png": "[encoded data removed]",
      "text/plain": [
       "<Figure size 432x288 with 2 Axes>"
      ]
     },
     "metadata": {
      "needs_background": "light"
     },
     "output_type": "display_data"
    }
   ],
   "source": [
    "from sklearn.svm import SVC\n",
    "from tabulate import tabulate\n",
    "\n",
    "\n",
    "def test_model(model):\n",
    "    pred_test = model.predict(x_test)\n",
    "    model_acc_score = accuracy_score(y_test, pred_test)\n",
    "    model_f1_score = f1_score(y_test, pred_test)\n",
    "    model_prec_score = precision_score(y_test, pred_test)\n",
    "    model_recall_score = recall_score(y_test, pred_test)\n",
    "    model_f2_score = fbeta_score(y_test, pred_test, beta=2)\n",
    "    results = []\n",
    "    results.append(('Metric',   'Score'))\n",
    "    results.append(('Accuracy', model_acc_score*100))\n",
    "    results.append(('F1 Score', model_f1_score*100))\n",
    "    results.append(('F-Beta Score', model_f2_score*100))\n",
    "    results.append(('Precision Score', model_prec_score*100))\n",
    "    results.append(('Recall Score', model_recall_score*100))\n",
    "    print(tabulate(results))\n",
    "    return pred_test\n",
    "\n",
    "svc_model = SVC(kernel='linear', random_state=42,class_weight = 'balanced')\n",
    "svc_model.fit(x_train, y_train)\n",
    "pred_test = test_model(svc_model)\n",
    "plot_confusion_matrix(svc_model, x_test, y_test)\n"
   ]
  },
  {
   "cell_type": "code",
   "execution_count": 13,
   "metadata": {},
   "outputs": [
    {
     "data": {
      "text/plain": [
       "{'C': 1.0,\n",
       " 'break_ties': False,\n",
       " 'cache_size': 200,\n",
       " 'class_weight': 'balanced',\n",
       " 'coef0': 0.0,\n",
       " 'decision_function_shape': 'ovr',\n",
       " 'degree': 3,\n",
       " 'gamma': 'scale',\n",
       " 'kernel': 'linear',\n",
       " 'max_iter': -1,\n",
       " 'probability': False,\n",
       " 'random_state': 42,\n",
       " 'shrinking': True,\n",
       " 'tol': 0.001,\n",
       " 'verbose': False}"
      ]
     },
     "execution_count": 13,
     "metadata": {},
     "output_type": "execute_result"
    }
   ],
   "source": [
    "svc_model.get_params()"
   ]
  },
  {
   "cell_type": "code",
   "execution_count": null,
   "metadata": {},
   "outputs": [],
   "source": [
    "import shutil\n",
    "%run ./_preprocess.ipynb\n",
    "\n",
    "root = '/home/simran.tyagi/Desktop/brand_ml'\n",
    "model_dict = OrderedDict({'classifier': svc_model, 'vectorizer': tfidf})\n",
    "# experiment_name = \"<Algo_name>_<MetricName>_<NGrams>_<MetricValue>_<date>\"\n",
    "experiment_name = \"SVC_FBeta_Biigram_8602_Jan04\"\n",
    "tn, fp, fn, tp = confusion_matrix(y_test, pred_test).ravel()\n",
    "experiment_results = {\n",
    "    \"tn\": float(tn), \"fp\": float(fp), \"fn\": float(fn), \"tp\": float(tp),\n",
    "    \"model_acc_score\": float(accuracy_score(y_test, pred_test)),\n",
    "    \"model_f1_score\": float(f1_score(y_test, pred_test)),\n",
    "    \"model_prec_score\": float(precision_score(y_test, pred_test)),\n",
    "    \"model_recall_score\": float(recall_score(y_test, pred_test)),\n",
    "    \"model_f2_score\": float(fbeta_score(y_test, pred_test, beta=2)),\n",
    "}\n",
    "\n",
    "notes = {'details': ['Uni Model', 'SVM']}\n",
    "\n",
    "# SAVE THE EXPERIMENT ARTIFACTS\n",
    "shutil.rmtree(os.path.join(root, 'experiments',\n",
    "              experiment_name), ignore_errors=True)\n",
    "save_experiment(experiment_name, model_dict, tags=notes,\n",
    "                results=experiment_results, preprocess_details=options)\n"
   ]
  }
 ],
 "metadata": {
  "interpreter": {
   "hash": "e490422cd5eb80d883ca3c84d0761f55a6ef3e6322675b57b784cf7be9fc5aec"
  },
  "kernelspec": {
   "display_name": "Python 3",
   "language": "python",
   "name": "python3"
  },
  "language_info": {
   "codemirror_mode": {
    "name": "ipython",
    "version": 3
   },
   "file_extension": ".py",
   "mimetype": "text/x-python",
   "name": "python",
   "nbconvert_exporter": "python",
   "pygments_lexer": "ipython3",
   "version": "3.8.8"
  }
 },
 "nbformat": 4,
 "nbformat_minor": 2
}
